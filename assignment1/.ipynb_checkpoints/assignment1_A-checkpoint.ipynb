{
 "cells": [
  {
   "cell_type": "code",
   "execution_count": 1,
   "metadata": {},
   "outputs": [],
   "source": [
    "import networkx as nx\n",
    "import pandas as pd\n",
    "import numpy as np\n",
    "import matplotlib.pyplot as plt\n",
    "import scipy\n",
    "from lata import lata"
   ]
  },
  {
   "cell_type": "code",
   "execution_count": 2,
   "metadata": {},
   "outputs": [],
   "source": [
    "df = pd.read_excel('manufacturing_emails_temporal_network.xlsx')\n",
    "G = nx.Graph()\n",
    "\n",
    "for index, row in df.iterrows():\n",
    "    G.add_edge(row['node1'], row['node2'])"
   ]
  },
  {
   "cell_type": "code",
   "execution_count": 3,
   "metadata": {},
   "outputs": [
    {
     "name": "stdout",
     "output_type": "stream",
     "text": [
      "Number of nodes:\t167\n",
      "Number of edges:\t3250\n",
      "Network density:\t0.2344708174013419\n",
      "Average degree:\t\t38.92215568862275\n",
      "Degree variance:\t993.8442396643837\n"
     ]
    }
   ],
   "source": [
    "N = G.number_of_nodes()\n",
    "E = G.number_of_edges()\n",
    "p = 2*E/(N*(N-1))\n",
    "#alt nx.density(G)\n",
    "A = nx.to_numpy_matrix(G)\n",
    "d = np.sum(A,0)\n",
    "ED = np.average(d)\n",
    "# alt ED = 2*E/(N)\n",
    "# alt ED = np.sum(d)/N\n",
    "VD = np.var(d)\n",
    "\n",
    "print(\"Number of nodes:\\t\" + str(N))\n",
    "print(\"Number of edges:\\t\" + str(E))\n",
    "print('Network density:\\t' + str(p))\n",
    "print('Average degree:\\t\\t' + str(ED))\n",
    "print(\"Degree variance:\\t\" + str(VD))"
   ]
  },
  {
   "cell_type": "code",
   "execution_count": 4,
   "metadata": {},
   "outputs": [
    {
     "data": {
      "image/png": "[encoded data removed]",
      "text/plain": [
       "<Figure size 432x288 with 1 Axes>"
      ]
     },
     "metadata": {
      "needs_background": "light"
     },
     "output_type": "display_data"
    },
    {
     "name": "stdout",
     "output_type": "stream",
     "text": [
      "This network is best modelled by scale-free networks. Because a very few nodes dominate the network.\n"
     ]
    }
   ],
   "source": [
    "d = np.squeeze(np.asarray(d.astype(int)))\n",
    "\n",
    "array_bins = np.arange(0,140,1)\n",
    "plt.hist(d, bins=array_bins)\n",
    "plt.show()\n",
    "\n",
    "print(\"This network is best modelled by scale-free networks. Because a very few nodes dominate the network.\")"
   ]
  },
  {
   "cell_type": "code",
   "execution_count": 5,
   "metadata": {},
   "outputs": [
    {
     "name": "stdout",
     "output_type": "stream",
     "text": [
      "Degree correlation:\t-0.2951772978930207\n",
      "This measures wether nodes with similar node degree tend to connect to eachother. Since it turn out to be negative this means it is disassorsitive.\n"
     ]
    }
   ],
   "source": [
    "dc = nx.degree_pearson_correlation_coefficient(G)\n",
    "print(\"Degree correlation:\\t\" + str(dc))\n",
    "print(\"This measures wether nodes with similar node degree tend to connect to eachother. Since it turn out to be negative this means it is disassorsitive.\")"
   ]
  },
  {
   "cell_type": "code",
   "execution_count": 6,
   "metadata": {},
   "outputs": [
    {
     "name": "stdout",
     "output_type": "stream",
     "text": [
      "Average clustering of the graph:\t0.5918632085486949\n"
     ]
    }
   ],
   "source": [
    "ac = nx.average_clustering(G)\n",
    "print(\"Average clustering of the graph:\\t\" + str(ac))"
   ]
  },
  {
   "cell_type": "code",
   "execution_count": 7,
   "metadata": {},
   "outputs": [
    {
     "name": "stdout",
     "output_type": "stream",
     "text": [
      "Average hopcount of shortest path:\t1.9673905201644903\n"
     ]
    }
   ],
   "source": [
    "asp = nx.average_shortest_path_length(G)\n",
    "print(\"Average hopcount of shortest path:\\t\" + str(asp))"
   ]
  },
  {
   "cell_type": "code",
   "execution_count": 8,
   "metadata": {},
   "outputs": [
    {
     "name": "stdout",
     "output_type": "stream",
     "text": [
      "Diameter:\t5\n"
     ]
    }
   ],
   "source": [
    "dia = nx.diameter(G)\n",
    "print(\"Diameter:\\t\" + str(dia))"
   ]
  },
  {
   "cell_type": "code",
   "execution_count": 9,
   "metadata": {},
   "outputs": [
    {
     "name": "stdout",
     "output_type": "stream",
     "text": [
      "This network has the small-world property. Because in relatively few hops you can get from an arbitrary node to another.\n"
     ]
    }
   ],
   "source": [
    "print(\"This network has the small-world property. Because in relatively few hops you can get from an arbitrary node to another.\")"
   ]
  },
  {
   "cell_type": "code",
   "execution_count": 10,
   "metadata": {},
   "outputs": [
    {
     "name": "stdout",
     "output_type": "stream",
     "text": [
      "Spectral radius:\t(60.63926551053451+0j)\n"
     ]
    }
   ],
   "source": [
    "eigenvalues, vectors = np.linalg.eig(A)\n",
    "largest_eig = np.max(eigenvalues)\n",
    "print(\"Spectral radius:\\t\" + str(largest_eig))"
   ]
  },
  {
   "cell_type": "code",
   "execution_count": 28,
   "metadata": {},
   "outputs": [
    {
     "name": "stdout",
     "output_type": "stream",
     "text": [
      "[1.-3.18403757e-15j 1.+0.00000000e+00j]\n"
     ]
    }
   ],
   "source": [
    "diagonaal = np.diag(d)\n",
    "Lmatrix = diagonaal - A\n",
    "eigLaplacian, vectors = np.linalg.eig(Lmatrix)\n",
    "smallest_eig = np.min(eigLaplacian)\n",
    "print(eigLaplacian[-2:])"
   ]
  },
  {
   "cell_type": "markdown",
   "metadata": {},
   "source": [
    "test_matrix = np.array([[N],[E],[p],[ED],[VD],[dc],[ac],[asp],[dia],[largest_eig]])\n",
    "lata(test_matrix,4)"
   ]
  }
 ],
 "metadata": {
  "kernelspec": {
   "display_name": "Python 3",
   "language": "python",
   "name": "python3"
  },
  "language_info": {
   "codemirror_mode": {
    "name": "ipython",
    "version": 3
   },
   "file_extension": ".py",
   "mimetype": "text/x-python",
   "name": "python",
   "nbconvert_exporter": "python",
   "pygments_lexer": "ipython3",
   "version": "3.6.9"
  }
 },
 "nbformat": 4,
 "nbformat_minor": 2
}
