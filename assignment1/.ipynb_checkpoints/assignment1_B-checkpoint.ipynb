{
 "cells": [
  {
   "cell_type": "markdown",
   "metadata": {},
   "source": [
    "# Assignment B\n",
    "\n",
    "We consider the following information spreading process, which is actually a simplified Susceptible-Infected\n",
    "model but on a temporal network. Initially, at time t = 0, a single node s is infected meaning that this\n",
    "node possesses the information whereas all the other nodes are Susceptible, thus have not yet perceived the\n",
    "information. Node s is also called the seed of the information. Whenever an infected node i is in contact with\n",
    "a susceptible node j at any time step t, the susceptible node becomes infected during the same time step and\n",
    "could possibly infect other nodes only since the next time step via its contacts with susceptible nodes. Once a\n",
    "node becomes infected, it stays infected forever. For example, assume that the seed node has its first contact,\n",
    "e.g. with a node m at time t = 5. Although node s gets infected since t = 0, it infects a second node, i.e. node\n",
    "m only at t = 5 when it contacts m. Infection happens only when an infected node and a susceptible node are\n",
    "in contact. The number of infected nodes is non-decreasing over time.\n",
    "\n",
    "Simulate the information spreading process on the given temporal network G data for N iterations. Each\n",
    "iteration starts with a different seed node infected at t = 0 and ends at t = T = 57791 the last time step that\n",
    "the network is measured. Record the number of infected nodes I(t) over time t for each iteration."
   ]
  },
  {
   "cell_type": "code",
   "execution_count": 56,
   "metadata": {},
   "outputs": [],
   "source": [
    "import networkx as nx\n",
    "import pandas as pd\n",
    "import numpy as np\n",
    "import matplotlib.pyplot as plt\n",
    "\n",
    "df = pd.read_excel('manufacturing_emails_temporal_network.xlsx')\n",
    "#G = nx.from_pandas_edgelist(df, source='node1', target='node2',edge_attr=True, create_using=nx.MultiGraph())\n",
    "number_of_nodes = 167"
   ]
  },
  {
   "cell_type": "markdown",
   "metadata": {},
   "source": [
    "## Q9\n",
    "\n",
    "Taking all the N iterations into count, plot the average number of infected nodes $E[I(t)]$ together with\n",
    "its error bar (standard deviation $\\sqrt{Var[I(t)]}$) as a function of the time step t"
   ]
  },
  {
   "cell_type": "code",
   "execution_count": 77,
   "metadata": {},
   "outputs": [],
   "source": [
    "# print(G.edges(data=True))\n",
    "#test = [l for n1, n2, l in G.edges(data=True) if l['timestamp'] < 10]\n",
    "#test\n",
    "\n",
    "s = 25\n",
    "infected = np.zeros(number_of_nodes,dtype=bool)\n",
    "infected[s] = True\n",
    "# np.array(number_of_nodes)\n",
    "infected_count = np.array(np.size(df))\n",
    "\n",
    "for index, row in df.iterrows():\n",
    "    node1 = row['node1']\n",
    "    node2 = row['node2']\n",
    "    \n",
    "    \n",
    "#     G.add_edge(row['node1'], row['node2'])"
   ]
  },
  {
   "cell_type": "code",
   "execution_count": 79,
   "metadata": {},
   "outputs": [
    {
     "data": {
      "text/plain": [
       "False"
      ]
     },
     "execution_count": 79,
     "metadata": {},
     "output_type": "execute_result"
    }
   ],
   "source": [
    "# first = \n",
    "# df[df.node1 == 25]\n",
    "infected[24]"
   ]
  },
  {
   "cell_type": "code",
   "execution_count": null,
   "metadata": {},
   "outputs": [],
   "source": []
  }
 ],
 "metadata": {
  "kernelspec": {
   "display_name": "Python 3",
   "language": "python",
   "name": "python3"
  },
  "language_info": {
   "codemirror_mode": {
    "name": "ipython",
    "version": 3
   },
   "file_extension": ".py",
   "mimetype": "text/x-python",
   "name": "python",
   "nbconvert_exporter": "python",
   "pygments_lexer": "ipython3",
   "version": "3.7.4"
  }
 },
 "nbformat": 4,
 "nbformat_minor": 2
}
