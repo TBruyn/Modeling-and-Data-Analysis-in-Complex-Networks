{
 "cells": [
  {
   "cell_type": "markdown",
   "metadata": {},
   "source": [
    "# Assignment B\n",
    "\n",
    "We consider the following information spreading process, which is actually a simplified Susceptible-Infected\n",
    "model but on a temporal network. Initially, at time t = 0, a single node s is infected meaning that this\n",
    "node possesses the information whereas all the other nodes are Susceptible, thus have not yet perceived the\n",
    "information. Node s is also called the seed of the information. Whenever an infected node i is in contact with\n",
    "a susceptible node j at any time step t, the susceptible node becomes infected during the same time step and\n",
    "could possibly infect other nodes only since the next time step via its contacts with susceptible nodes. Once a\n",
    "node becomes infected, it stays infected forever. For example, assume that the seed node has its first contact,\n",
    "e.g. with a node m at time t = 5. Although node s gets infected since t = 0, it infects a second node, i.e. node\n",
    "m only at t = 5 when it contacts m. Infection happens only when an infected node and a susceptible node are\n",
    "in contact. The number of infected nodes is non-decreasing over time.\n",
    "\n",
    "Simulate the information spreading process on the given temporal network G data for N iterations. Each\n",
    "iteration starts with a different seed node infected at t = 0 and ends at t = T = 57791 the last time step that\n",
    "the network is measured. Record the number of infected nodes I(t) over time t for each iteration."
   ]
  },
  {
   "cell_type": "code",
   "execution_count": 1,
   "metadata": {},
   "outputs": [],
   "source": [
    "import networkx as nx\n",
    "import pandas as pd\n",
    "import numpy as np\n",
    "import matplotlib.pyplot as plt\n",
    "import pickle\n",
    "import os.path\n",
    "import math"
   ]
  },
  {
   "cell_type": "code",
   "execution_count": 20,
   "metadata": {},
   "outputs": [
    {
     "data": {
      "text/html": [
       "<div>\n",
       "<style scoped>\n",
       "    .dataframe tbody tr th:only-of-type {\n",
       "        vertical-align: middle;\n",
       "    }\n",
       "\n",
       "    .dataframe tbody tr th {\n",
       "        vertical-align: top;\n",
       "    }\n",
       "\n",
       "    .dataframe thead th {\n",
       "        text-align: right;\n",
       "    }\n",
       "</style>\n",
       "<table border=\"1\" class=\"dataframe\">\n",
       "  <thead>\n",
       "    <tr style=\"text-align: right;\">\n",
       "      <th></th>\n",
       "      <th>node1</th>\n",
       "      <th>node2</th>\n",
       "      <th>timestamp</th>\n",
       "    </tr>\n",
       "  </thead>\n",
       "  <tbody>\n",
       "    <tr>\n",
       "      <td>0</td>\n",
       "      <td>1</td>\n",
       "      <td>2</td>\n",
       "      <td>1</td>\n",
       "    </tr>\n",
       "    <tr>\n",
       "      <td>1</td>\n",
       "      <td>1</td>\n",
       "      <td>3</td>\n",
       "      <td>1</td>\n",
       "    </tr>\n",
       "    <tr>\n",
       "      <td>2</td>\n",
       "      <td>1</td>\n",
       "      <td>4</td>\n",
       "      <td>1</td>\n",
       "    </tr>\n",
       "    <tr>\n",
       "      <td>3</td>\n",
       "      <td>1</td>\n",
       "      <td>5</td>\n",
       "      <td>1</td>\n",
       "    </tr>\n",
       "    <tr>\n",
       "      <td>4</td>\n",
       "      <td>1</td>\n",
       "      <td>6</td>\n",
       "      <td>1</td>\n",
       "    </tr>\n",
       "    <tr>\n",
       "      <td>...</td>\n",
       "      <td>...</td>\n",
       "      <td>...</td>\n",
       "      <td>...</td>\n",
       "    </tr>\n",
       "    <tr>\n",
       "      <td>82871</td>\n",
       "      <td>3</td>\n",
       "      <td>39</td>\n",
       "      <td>57787</td>\n",
       "    </tr>\n",
       "    <tr>\n",
       "      <td>82872</td>\n",
       "      <td>3</td>\n",
       "      <td>39</td>\n",
       "      <td>57788</td>\n",
       "    </tr>\n",
       "    <tr>\n",
       "      <td>82873</td>\n",
       "      <td>18</td>\n",
       "      <td>19</td>\n",
       "      <td>57789</td>\n",
       "    </tr>\n",
       "    <tr>\n",
       "      <td>82874</td>\n",
       "      <td>3</td>\n",
       "      <td>85</td>\n",
       "      <td>57790</td>\n",
       "    </tr>\n",
       "    <tr>\n",
       "      <td>82875</td>\n",
       "      <td>85</td>\n",
       "      <td>94</td>\n",
       "      <td>57791</td>\n",
       "    </tr>\n",
       "  </tbody>\n",
       "</table>\n",
       "<p>82876 rows × 3 columns</p>\n",
       "</div>"
      ],
      "text/plain": [
       "       node1  node2  timestamp\n",
       "0          1      2          1\n",
       "1          1      3          1\n",
       "2          1      4          1\n",
       "3          1      5          1\n",
       "4          1      6          1\n",
       "...      ...    ...        ...\n",
       "82871      3     39      57787\n",
       "82872      3     39      57788\n",
       "82873     18     19      57789\n",
       "82874      3     85      57790\n",
       "82875     85     94      57791\n",
       "\n",
       "[82876 rows x 3 columns]"
      ]
     },
     "execution_count": 20,
     "metadata": {},
     "output_type": "execute_result"
    }
   ],
   "source": [
    "df = pd.read_excel('manufacturing_emails_temporal_network.xlsx')\n",
    "#G = nx.from_pandas_edgelist(df, source='node1', target='node2',edge_attr=True, create_using=nx.MultiGraph())\n",
    "number_of_nodes = 167\n",
    "df"
   ]
  },
  {
   "cell_type": "markdown",
   "metadata": {},
   "source": [
    "## Q9\n",
    "\n",
    "Taking all the N iterations into count, plot the average number of infected nodes $E[I(t)]$ together with\n",
    "its error bar (standard deviation $\\sqrt{Var[I(t)]}$) as a function of the time step t"
   ]
  },
  {
   "cell_type": "code",
   "execution_count": 3,
   "metadata": {},
   "outputs": [
    {
     "name": "stdout",
     "output_type": "stream",
     "text": [
      "infected_per_timestep initialized\n"
     ]
    },
    {
     "data": {
      "text/plain": [
       "array([[  2.,   3.,   4., ..., 167., 167., 167.],\n",
       "       [  1.,   1.,   1., ..., 162., 162., 162.],\n",
       "       [  1.,   1.,   1., ..., 165., 165., 165.],\n",
       "       ...,\n",
       "       [  1.,   1.,   1., ...,   1.,   1.,   1.],\n",
       "       [  1.,   1.,   1., ...,   1.,   1.,   1.],\n",
       "       [  1.,   1.,   1., ...,   1.,   1.,   1.]])"
      ]
     },
     "execution_count": 3,
     "metadata": {},
     "output_type": "execute_result"
    }
   ],
   "source": [
    "try:\n",
    "    infected_per_timestep = pickle.load(open(\"infected_per_timestamp.pickle\", \"rb\"))\n",
    "except Exception as e:\n",
    "    print(e)\n",
    "    print(\"Rebuilding data\")\n",
    "\n",
    "    infected_per_timestep = np.zeros([number_of_nodes, len(df.index)])\n",
    "\n",
    "    for n in range(1, number_of_nodes + 1):\n",
    "        infected = np.zeros(number_of_nodes + 1,dtype=bool)\n",
    "        infected[n] = True\n",
    "        infected_count = 1\n",
    "\n",
    "        for timestep, transaction in df.iterrows():\n",
    "            node1 = transaction['node1']\n",
    "            node2 = transaction['node2']\n",
    "            if infected[node1] and not infected[node2]:\n",
    "                infected[node2] = True\n",
    "                infected_count += 1\n",
    "\n",
    "            infected_per_timestep[n - 1, timestep] = infected_count\n",
    "\n",
    "        print(\"Infection of starting node \" + str(n) + \" finished\")\n",
    "    print(\"Finished creating data\")\n",
    "print(\"infected_per_timestep initialized\")\n",
    "infected_per_timestep"
   ]
  },
  {
   "cell_type": "code",
   "execution_count": 4,
   "metadata": {},
   "outputs": [
    {
     "name": "stdout",
     "output_type": "stream",
     "text": [
      "Excelfile already there\n"
     ]
    }
   ],
   "source": [
    "try:\n",
    "    os.path.isfile('Infected_per_timestep.xlsx')\n",
    "    print(\"Excelfile already there\")\n",
    "except Exception as e:\n",
    "    print(e)\n",
    "    print(\"Writing data to excel\")\n",
    "    df_infected_per_timestep = pd.DataFrame(infected_per_timestep.T)\n",
    "    writer = pd.ExcelWriter('Infected_per_timestep.xlsx')\n",
    "    df_infected_per_timestep.to_excel(writer, 'Sheet1', index=False)\n",
    "    writer.save()\n",
    "    print(\"Written infected per timestep to excel\")\n",
    "\n"
   ]
  },
  {
   "cell_type": "code",
   "execution_count": 5,
   "metadata": {},
   "outputs": [],
   "source": [
    "avg = [np.average(col) for col in infected_per_timestep.T]\n",
    "std = [np.std(col) for col in infected_per_timestep.T]"
   ]
  },
  {
   "cell_type": "markdown",
   "metadata": {},
   "source": [
    "## Q10\n",
    "\n",
    "How influential a node is as a seed node could be partially reflected by, e.g. the time it takes to\n",
    "reach/infect 80% of the total nodes when this node is selected as the seed node. The shorter the time is, the more influential the seed node is. Using this standard to rank the influence of all the nodes and record the\n",
    "ranking in a vector R = [R (1) , R (2) , ..., R (N ) ] where R (i) is the node index of the i − th most influential seed\n",
    "node and R (1) is the most influential node that infects 80% nodes in the shortest time. Note that you don’t\n",
    "need to provide this vector in your report"
   ]
  },
  {
   "cell_type": "code",
   "execution_count": 122,
   "metadata": {},
   "outputs": [],
   "source": [
    "threshold = math.ceil(0.8 * number_of_nodes)\n",
    "\n",
    "threshold_reached = [np.min(np.where(row > threshold)[0]) \n",
    "         if np.where(row > threshold )[0].shape[0] > 0 \n",
    "         else len(infected_per_timestep.T)                     \n",
    "         for row in infected_per_timestep]"
   ]
  },
  {
   "cell_type": "code",
   "execution_count": 123,
   "metadata": {},
   "outputs": [],
   "source": [
    "node_timestamp_pair = np.stack(\n",
    "    (np.arange(1,168), \n",
    "    np.array(threshold_reached)), axis=-1  )\n",
    "sorted_nodes = node_timestamp_pair[node_timestamp_pair[:,1].argsort()][:,0]"
   ]
  },
  {
   "cell_type": "markdown",
   "metadata": {},
   "source": [
    "## Q11\n",
    "\n",
    "We are going to explore which nodal level network feature could well suggest the nodal influence discussed\n",
    "in 10). Compute the degree and clustering coefficient of each node in the aggregated network G and rank the\n",
    "importance of the nodes according to these two centrality metrics respectively. You obtain the ordered vector\n",
    "D = [D (1) , D (2) , ..., D (N ) ] and C = [C (1) , C (2) , ..., C (N ) ], where D (i) is the node having the i − th highest degree\n",
    "and C (i) is the node with the i − th highest clustering coefficient. How precise a centrality metric e.g. the\n",
    "|R f ∩D f |\n",
    "degree could predict seed nodes’ influence could be quantified by the top f recognition rate r RD (f ) = |R\n",
    "f |\n",
    "where R f and D f are the sets of nodes ranking in the top f fraction according to their influence and degree\n",
    "respectively and |R f | = f N is the number of nodes in R f . Plot r RD (f ) and r RC (f ) as a function of f where\n",
    "f = 0.05, 0.1, 0.15, ..., 0.5. Which metric, the degree or the clustering coefficient could better predict the influence\n",
    "of the nodes? Why?"
   ]
  },
  {
   "cell_type": "code",
   "execution_count": null,
   "metadata": {},
   "outputs": [],
   "source": []
  },
  {
   "cell_type": "code",
   "execution_count": null,
   "metadata": {},
   "outputs": [],
   "source": []
  }
 ],
 "metadata": {
  "kernelspec": {
   "display_name": "Python 3",
   "language": "python",
   "name": "python3"
  },
  "language_info": {
   "codemirror_mode": {
    "name": "ipython",
    "version": 3
   },
   "file_extension": ".py",
   "mimetype": "text/x-python",
   "name": "python",
   "nbconvert_exporter": "python",
   "pygments_lexer": "ipython3",
   "version": "3.7.4"
  }
 },
 "nbformat": 4,
 "nbformat_minor": 2
}
