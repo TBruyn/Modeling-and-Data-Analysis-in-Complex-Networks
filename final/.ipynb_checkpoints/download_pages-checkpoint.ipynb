{
 "cells": [
  {
   "cell_type": "code",
   "execution_count": 14,
   "metadata": {},
   "outputs": [],
   "source": [
    "from Site_Improve_Page_Looper import Site_Improve_Page_Looper"
   ]
  },
  {
   "cell_type": "code",
   "execution_count": 24,
   "metadata": {},
   "outputs": [],
   "source": [
    "site_id = \"1348629560\"\n",
    "url_sites = \"https://api.siteimprove.com/v2/sites/\"\n",
    "all_page_command = url_sites + site_id + \"/analytics/content/all_pages\"\n",
    "entry_point_command = url_sites + site_id + \"/analytics/content/entry_pages\"\n",
    "\n",
    "looper = Site_Improve_Page_Looper()"
   ]
  },
  {
   "cell_type": "code",
   "execution_count": 25,
   "metadata": {},
   "outputs": [],
   "source": [
    "# Collect all pages\n",
    "# looper.collect_pages(\n",
    "#     all_pages_co,\n",
    "#     output_file='pages.json',\n",
    "#     error_output_file='all_pages_error_output_list.json',\n",
    "#     error_log_file='all_pages_error_log.txt')"
   ]
  },
  {
   "cell_type": "code",
   "execution_count": null,
   "metadata": {},
   "outputs": [],
   "source": [
    "# Collect entry\n",
    "looper.collect_pages(\n",
    "    command=entry_point_command,\n",
    "    output_file='entry_points.json',\n",
    "    error_output_file='entry_points_error_output_list.json',\n",
    "    error_log_file='entry_points_error_log.txt')"
   ]
  }
 ],
 "metadata": {
  "kernelspec": {
   "display_name": "Python 3.7.4 64-bit ('base': conda)",
   "language": "python",
   "name": "python37464bitbasecondaf5e79467d83545ebbccd33e2c956221e"
  },
  "language_info": {
   "codemirror_mode": {
    "name": "ipython",
    "version": 3
   },
   "file_extension": ".py",
   "mimetype": "text/x-python",
   "name": "python",
   "nbconvert_exporter": "python",
   "pygments_lexer": "ipython3",
   "version": "3.7.4"
  }
 },
 "nbformat": 4,
 "nbformat_minor": 2
}
