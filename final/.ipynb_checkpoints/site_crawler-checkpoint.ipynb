{
 "cells": [
  {
   "cell_type": "markdown",
   "execution_count": null,
   "metadata": {},
   "outputs": [],
   "source": [
    "# HTTP test\n",
    "\n",
    "A basic test for the HTTP data collection\n",
    "\n",
    "https://siteimprove.com/\n",
    "\n",
    "https://api.siteimprove.com/v2/\n",
    "\n",
    "https://api.siteimprove.com/v2/documentation#/"
   ]
  },
  {
   "cell_type": "code",
   "execution_count": null,
   "metadata": {},
   "outputs": [],
   "source": [
    "import requests\n",
    "from requests.auth import HTTPBasicAuth\n",
    "\n",
    "import json\n",
    "import pprint"
   ]
  },
  {
   "cell_type": "code",
   "execution_count": null,
   "metadata": {},
   "outputs": [],
   "source": [
    "url = 'https://api.siteimprove.com/v2'\n",
    "site_id = '1348629560'\n",
    "command = \"/sites/\" + site_id + \"/analytics/content/all_pages\"\n",
    "credentials = json.loads(open('secret.json', 'r').read())"
   ]
  },
  {
   "cell_type": "code",
   "execution_count": null,
   "metadata": {},
   "outputs": [],
   "source": [
    "import re\n",
    "\n",
    "website = requests.get(\"https://www.tudelft.nl/\", headers={'Accept-Encoding': 'identity'})\n",
    "website\n"
   ]
  },
  {
   "cell_type": "code",
   "execution_count": null,
   "metadata": {},
   "outputs": [],
   "source": [
    "pagelist = json.loads(open('pagelists.json','r').read())\n",
    "\n",
    "page_urls = []\n",
    "\n",
    "[[page_urls.append(item['url']) for item in page['items']] for page in pagelist]\n",
    "print()"
   ]
  },
  {
   "cell_type": "code",
   "execution_count": null,
   "metadata": {},
   "outputs": [],
   "source": [
    "links = re.findall('\"((http|ftp)s?://.*?)\"', website.text)\n",
    "\n",
    "bla = [a for (a,b) in links if a in page_urls]\n",
    "bla"
   ]
  },
  {
   "cell_type": "code",
   "execution_count": null,
   "metadata": {},
   "outputs": [],
   "source": [
    "# re.findall('*a*',links[20])\n",
    "links[20]"
   ]
  },
  {
   "cell_type": "code",
   "execution_count": 64,
   "metadata": {},
   "outputs": [],
   "source": [
    "pages = {'pages' : []}\n",
    "[[pages['pages'].append(item) for item in page['items']] for page in pagelist]\n",
    "# print(pages[0:5])\n",
    "len(pages)\n",
    "with open('pages.json', 'w', encoding='utf-8') as file:\n",
    "    json.dump(pages, file, indent=4)"
   ]
  },
  {
   "cell_type": "code",
   "execution_count": null,
   "metadata": {},
   "outputs": [],
   "source": []
  },
  {
   "cell_type": "code",
   "execution_count": null,
   "metadata": {},
   "outputs": [],
   "source": [
    "bla = { 'pages' : pages}"
   ]
  },
  {
   "cell_type": "code",
   "execution_count": null,
   "metadata": {},
   "outputs": [],
   "source": []
  }
 ],
 "metadata": {
  "kernelspec": {
   "display_name": "Python 3",
   "language": "python",
   "name": "python3"
  },
  "language_info": {
   "codemirror_mode": {
    "name": "ipython",
    "version": 3
   },
   "file_extension": ".py",
   "mimetype": "text/x-python",
   "name": "python",
   "nbconvert_exporter": "python",
   "pygments_lexer": "ipython3",
   "version": "3.7.6-final"
  }
 },
 "nbformat": 4,
 "nbformat_minor": 2
}
