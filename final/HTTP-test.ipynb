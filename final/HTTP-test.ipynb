{
 "cells": [
  {
   "cell_type": "code",
   "execution_count": 5,
   "metadata": {},
   "outputs": [],
   "source": [
    "import requests\n",
    "from requests.auth import HTTPBasicAuth\n",
    "\n",
    "import json"
   ]
  },
  {
   "cell_type": "code",
   "execution_count": 21,
   "metadata": {},
   "outputs": [],
   "source": [
    "url = 'https://api.siteimprove.com/v2/'\n",
    "credentials = json.loads(open('secret.json', 'r').read())"
   ]
  },
  {
   "cell_type": "code",
   "execution_count": 22,
   "metadata": {},
   "outputs": [],
   "source": [
    "r = requests.get(url, auth=HTTPBasicAuth(credentials['userName'], credentials['userPass']))"
   ]
  },
  {
   "cell_type": "code",
   "execution_count": 24,
   "metadata": {},
   "outputs": [
    {
     "data": {
      "text/plain": [
       "{'account_name': 'Technische Universiteit Delft',\n",
       " '_links': {'documentation': {'href': 'https://api.siteimprove.com/v2/documentation'},\n",
       "  'gdpr': {'href': 'https://api.siteimprove.com/v2/gdpr/domains_and_ip_addresses/domains'},\n",
       "  'integrations': {'href': 'https://api.siteimprove.com/v2/integrations'},\n",
       "  'openapi_spec': {'href': 'https://api.siteimprove.com/v2/documentation/openapi_spec'},\n",
       "  'settings': {'href': 'https://api.siteimprove.com/v2/settings'},\n",
       "  'sites': {'href': 'https://api.siteimprove.com/v2/sites'},\n",
       "  'utilization': {'href': 'https://api.siteimprove.com/v2/utilization'},\n",
       "  'self': {'href': 'https://api.siteimprove.com/v2'}}}"
      ]
     },
     "execution_count": 24,
     "metadata": {},
     "output_type": "execute_result"
    }
   ],
   "source": [
    "r.json()"
   ]
  },
  {
   "cell_type": "code",
   "execution_count": null,
   "metadata": {},
   "outputs": [],
   "source": []
  }
 ],
 "metadata": {
  "kernelspec": {
   "display_name": "Python 3",
   "language": "python",
   "name": "python3"
  },
  "language_info": {
   "codemirror_mode": {
    "name": "ipython",
    "version": 3
   },
   "file_extension": ".py",
   "mimetype": "text/x-python",
   "name": "python",
   "nbconvert_exporter": "python",
   "pygments_lexer": "ipython3",
   "version": "3.7.4"
  }
 },
 "nbformat": 4,
 "nbformat_minor": 2
}
