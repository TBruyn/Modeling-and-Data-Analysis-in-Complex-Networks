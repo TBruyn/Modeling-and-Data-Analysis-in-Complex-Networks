{
 "cells": [
  {
   "cell_type": "markdown",
   "metadata": {},
   "source": [
    "# HTTP test\n",
    "\n",
    "A basic test for the HTTP data collection\n",
    "\n",
    "https://siteimprove.com/\n",
    "\n",
    "https://api.siteimprove.com/v2/\n",
    "\n",
    "https://api.siteimprove.com/v2/documentation#/"
   ],
   "execution_count": null,
   "outputs": []
  },
  {
   "cell_type": "code",
   "execution_count": null,
   "metadata": {},
   "outputs": [],
   "source": [
    "import requests\n",
    "from requests.auth import HTTPBasicAuth\n",
    "\n",
    "import json\n",
    "import pprint"
   ]
  },
  {
   "cell_type": "code",
   "execution_count": null,
   "metadata": {},
   "outputs": [],
   "source": [
    "url = 'https://api.siteimprove.com/v2'\n",
    "site_id = '1348629560'\n",
    "command = \"/sites/\" + site_id + \"/analytics/content/all_pages\"\n",
    "credentials = json.loads(open('secret.json', 'r').read())"
   ]
  },
  {
   "cell_type": "code",
   "execution_count": null,
   "metadata": {},
   "outputs": [],
   "source": [
    "import re\n",
    "\n",
    "website = requests.get(\"https://www.tudelft.nl/\", headers={'Accept-Encoding': 'identity'})\n",
    "website\n",
    ""
   ]
  },
  {
   "cell_type": "code",
   "execution_count": 49,
   "metadata": {},
   "outputs": [
    {
     "output_type": "stream",
     "name": "stdout",
     "text": "\n"
    }
   ],
   "source": [
    "pagelist = json.loads(open('pagelists.json','r').read())\n",
    "\n",
    "page_urls = []\n",
    "\n",
    "[[page_urls.append(item['url']) for item in page['items']] for page in pagelist]\n",
    "print()"
   ]
  },
  {
   "cell_type": "code",
   "execution_count": 50,
   "metadata": {},
   "outputs": [
    {
     "output_type": "execute_result",
     "data": {
      "text/plain": "['https://www.tudelft.nl/',\n 'http://universiteitsfonds.tudelft.nl',\n 'http://universiteitsfonds.tudelft.nl',\n 'https://www.tudelft.nl/2020/tu-delft/masterstudenten-tu-delft-starten-initiatief-om-beademingsapparatuur-te-ontwikkelen/',\n 'https://www.tudelft.nl/2020/3me/maart/miljoenen-voor-verbetering-binnenvaart-rijn-alpen-corridor/',\n 'https://www.tudelft.nl/2020/tu-delft/klimaatarboretum-tu-delft/',\n 'https://www.tudelft.nl/2020/tnw/onderzoekers-maken-zonnecellen-met-behulp-van-enzymen-uit-papajas/',\n 'https://www.tudelft.nl/2020/tnw/zigzag-dna/',\n 'https://www.tudelft.nl/2020/tu-delft/de-magneet-die-niet-bestond/',\n 'https://www.tudelft.nl/en/library/',\n 'http://universiteitsfonds.tudelft.nl']"
     },
     "metadata": {},
     "execution_count": 50
    }
   ],
   "source": [
    "links = re.findall('\"((http|ftp)s?://.*?)\"', website.text)\n",
    "\n",
    "bla = [a for (a,b) in links if a in page_urls]\n",
    "bla"
   ]
  },
  {
   "cell_type": "code",
   "execution_count": null,
   "metadata": {},
   "outputs": [],
   "source": [
    "# re.findall('*a*',links[20])\n",
    "links[20]"
   ]
  },
  {
   "cell_type": "code",
   "execution_count": null,
   "metadata": {},
   "outputs": [],
   "source": []
  }
 ],
 "metadata": {
  "kernelspec": {
   "display_name": "Python 3",
   "language": "python",
   "name": "python3"
  },
  "language_info": {
   "codemirror_mode": {
    "name": "ipython",
    "version": 3
   },
   "file_extension": ".py",
   "mimetype": "text/x-python",
   "name": "python",
   "nbconvert_exporter": "python",
   "pygments_lexer": "ipython3",
   "version": "3.7.6-final"
  }
 },
 "nbformat": 4,
 "nbformat_minor": 2
}