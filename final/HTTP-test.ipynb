{
 "cells": [
  {
   "cell_type": "markdown",
   "metadata": {},
   "source": [
    "# HTTP test\n",
    "\n",
    "A basic test for the HTTP data collection\n",
    "\n",
    "https://siteimprove.com/\n",
    "\n",
    "https://api.siteimprove.com/v2/\n",
    "\n",
    "https://api.siteimprove.com/v2/documentation#/"
   ]
  },
  {
   "cell_type": "code",
   "execution_count": 2,
   "metadata": {},
   "outputs": [],
   "source": [
    "import requests\n",
    "from requests.auth import HTTPBasicAuth\n",
    "\n",
    "import json\n",
    "import pprint"
   ]
  },
  {
   "cell_type": "code",
   "execution_count": 3,
   "metadata": {},
   "outputs": [],
   "source": [
    "url = 'https://api.siteimprove.com/v2'\n",
    "site_id = '1348629560'\n",
    "command = \"/sites/\" + site_id + \"/analytics/overview/online_visitors\"\n",
    "credentials = json.loads(open('secret.json', 'r').read())"
   ]
  },
  {
   "cell_type": "code",
   "execution_count": 16,
   "metadata": {},
   "outputs": [
    {
     "name": "stdout",
     "output_type": "stream",
     "text": [
      "<Response [200]>\n",
      "<Response [200]>\n"
     ]
    }
   ],
   "source": [
    "website1 = requests.get(url + command, auth=HTTPBasicAuth(credentials['userName'], credentials['userPass']))\n",
    "website2 = requests.get(url + command + \"?period=20200101\", auth=HTTPBasicAuth(credentials['userName'], credentials['userPass']))\n",
    "\n",
    "print(website1)\n",
    "print(website2)\n"
   ]
  },
  {
   "cell_type": "code",
   "execution_count": 19,
   "metadata": {},
   "outputs": [
    {
     "name": "stdout",
     "output_type": "stream",
     "text": [
      "{'items': [{'id': 4393002779, 'city': 'Delft', 'country_code': 'NL', 'country_name': 'Netherlands', 'last_page_view': '2020-04-01T15:16:01+02:00', 'organisation': 'Stichting Duwo', 'page_views': 1, 'region': 'Zuid-Holland', '_links': {'details': {'href': 'https://api.siteimprove.com/v2/sites/1348629560/analytics/overview/online_visitors/4393002779/details?period=now'}, 'pages': {'href': 'https://api.siteimprove.com/v2/sites/1348629560/analytics/overview/online_visitors/4393002779/pages?period=now'}}}, {'id': 4393002778, 'city': 'Zoetermeer', 'country_code': 'NL', 'country_name': 'Netherlands', 'last_page_view': '2020-04-01T15:15:59+02:00', 'organisation': 'Ziggo B.V.', 'page_views': 2, 'region': 'Zuid-Holland', '_links': {'details': {'href': 'https://api.siteimprove.com/v2/sites/1348629560/analytics/overview/online_visitors/4393002778/details?period=now'}, 'pages': {'href': 'https://api.siteimprove.com/v2/sites/1348629560/analytics/overview/online_visitors/4393002778/pages?period=now'}}}, {'id': 4393002843, 'city': 'The Hague', 'country_code': 'NL', 'country_name': 'Netherlands', 'last_page_view': '2020-04-01T15:15:55+02:00', 'organisation': 'Universiteit Leiden', 'page_views': 1, 'region': 'Zuid-Holland', '_links': {'details': {'href': 'https://api.siteimprove.com/v2/sites/1348629560/analytics/overview/online_visitors/4393002843/details?period=now'}, 'pages': {'href': 'https://api.siteimprove.com/v2/sites/1348629560/analytics/overview/online_visitors/4393002843/pages?period=now'}}}, {'id': 4393000574, 'city': 'Gloucester', 'country_code': 'CA', 'country_name': 'Canada', 'last_page_view': '2020-04-01T15:15:55+02:00', 'organisation': 'Rogers Telecom Inc.', 'page_views': 6, 'region': 'Ontario', '_links': {'details': {'href': 'https://api.siteimprove.com/v2/sites/1348629560/analytics/overview/online_visitors/4393000574/details?period=now'}, 'pages': {'href': 'https://api.siteimprove.com/v2/sites/1348629560/analytics/overview/online_visitors/4393000574/pages?period=now'}}}, {'id': 4393002652, 'city': 'Delft', 'country_code': 'NL', 'country_name': 'Netherlands', 'last_page_view': '2020-04-01T15:15:49+02:00', 'organisation': 'Euronet Communications B.V.', 'page_views': 1, 'region': 'Zuid-Holland', '_links': {'details': {'href': 'https://api.siteimprove.com/v2/sites/1348629560/analytics/overview/online_visitors/4393002652/details?period=now'}, 'pages': {'href': 'https://api.siteimprove.com/v2/sites/1348629560/analytics/overview/online_visitors/4393002652/pages?period=now'}}}, {'id': 4393002095, 'city': 'Leidschendam', 'country_code': 'NL', 'country_name': 'Netherlands', 'last_page_view': '2020-04-01T15:15:39+02:00', 'organisation': 'Ziggo B.V.', 'page_views': 2, 'region': 'Zuid-Holland', '_links': {'details': {'href': 'https://api.siteimprove.com/v2/sites/1348629560/analytics/overview/online_visitors/4393002095/details?period=now'}, 'pages': {'href': 'https://api.siteimprove.com/v2/sites/1348629560/analytics/overview/online_visitors/4393002095/pages?period=now'}}}, {'id': 4393002352, 'city': 'Dorchester', 'country_code': 'US', 'country_name': 'United States', 'last_page_view': '2020-04-01T15:15:36+02:00', 'organisation': 'Mci Communications Services Inc. Dba Verizon Business', 'page_views': 1, 'region': 'Massachusetts', '_links': {'details': {'href': 'https://api.siteimprove.com/v2/sites/1348629560/analytics/overview/online_visitors/4393002352/details?period=now'}, 'pages': {'href': 'https://api.siteimprove.com/v2/sites/1348629560/analytics/overview/online_visitors/4393002352/pages?period=now'}}}, {'id': 4393001765, 'city': 'Voorburg', 'country_code': 'NL', 'country_name': 'Netherlands', 'last_page_view': '2020-04-01T15:15:34+02:00', 'organisation': 'Ziggo B.V.', 'page_views': 9, 'region': 'Zuid-Holland', '_links': {'details': {'href': 'https://api.siteimprove.com/v2/sites/1348629560/analytics/overview/online_visitors/4393001765/details?period=now'}, 'pages': {'href': 'https://api.siteimprove.com/v2/sites/1348629560/analytics/overview/online_visitors/4393001765/pages?period=now'}}}, {'id': 4393000920, 'city': 'Odivelas', 'country_code': 'PT', 'country_name': 'Portugal', 'last_page_view': '2020-04-01T15:15:33+02:00', 'organisation': 'Vodafone Portugal - Communicacoes Pessoais S.A.', 'page_views': 9, 'region': 'Lisboa', '_links': {'details': {'href': 'https://api.siteimprove.com/v2/sites/1348629560/analytics/overview/online_visitors/4393000920/details?period=now'}, 'pages': {'href': 'https://api.siteimprove.com/v2/sites/1348629560/analytics/overview/online_visitors/4393000920/pages?period=now'}}}, {'id': 4393002510, 'city': 'The Hague', 'country_code': 'NL', 'country_name': 'Netherlands', 'last_page_view': '2020-04-01T15:15:30+02:00', 'organisation': 'Customers', 'page_views': 1, 'region': 'Zuid-Holland', '_links': {'details': {'href': 'https://api.siteimprove.com/v2/sites/1348629560/analytics/overview/online_visitors/4393002510/details?period=now'}, 'pages': {'href': 'https://api.siteimprove.com/v2/sites/1348629560/analytics/overview/online_visitors/4393002510/pages?period=now'}}}], 'total_items': 63, 'total_pages': 7, 'links': {'next': {'href': 'https://api.siteimprove.com/v2/sites/1348629560/analytics/overview/online_visitors?page=2'}, 'self': {'href': 'https://api.siteimprove.com/v2/sites/1348629560/analytics/overview/online_visitors'}}}\n",
      "\n",
      "{'items': [{'id': 4393002779, 'city': 'Delft', 'country_code': 'NL', 'country_name': 'Netherlands', 'last_page_view': '2020-04-01T15:16:01+02:00', 'organisation': 'Stichting Duwo', 'page_views': 1, 'region': 'Zuid-Holland', '_links': {'details': {'href': 'https://api.siteimprove.com/v2/sites/1348629560/analytics/overview/online_visitors/4393002779/details?period=now'}, 'pages': {'href': 'https://api.siteimprove.com/v2/sites/1348629560/analytics/overview/online_visitors/4393002779/pages?period=now'}}}, {'id': 4393002778, 'city': 'Zoetermeer', 'country_code': 'NL', 'country_name': 'Netherlands', 'last_page_view': '2020-04-01T15:15:59+02:00', 'organisation': 'Ziggo B.V.', 'page_views': 2, 'region': 'Zuid-Holland', '_links': {'details': {'href': 'https://api.siteimprove.com/v2/sites/1348629560/analytics/overview/online_visitors/4393002778/details?period=now'}, 'pages': {'href': 'https://api.siteimprove.com/v2/sites/1348629560/analytics/overview/online_visitors/4393002778/pages?period=now'}}}, {'id': 4393002843, 'city': 'The Hague', 'country_code': 'NL', 'country_name': 'Netherlands', 'last_page_view': '2020-04-01T15:15:55+02:00', 'organisation': 'Universiteit Leiden', 'page_views': 1, 'region': 'Zuid-Holland', '_links': {'details': {'href': 'https://api.siteimprove.com/v2/sites/1348629560/analytics/overview/online_visitors/4393002843/details?period=now'}, 'pages': {'href': 'https://api.siteimprove.com/v2/sites/1348629560/analytics/overview/online_visitors/4393002843/pages?period=now'}}}, {'id': 4393000574, 'city': 'Gloucester', 'country_code': 'CA', 'country_name': 'Canada', 'last_page_view': '2020-04-01T15:15:55+02:00', 'organisation': 'Rogers Telecom Inc.', 'page_views': 6, 'region': 'Ontario', '_links': {'details': {'href': 'https://api.siteimprove.com/v2/sites/1348629560/analytics/overview/online_visitors/4393000574/details?period=now'}, 'pages': {'href': 'https://api.siteimprove.com/v2/sites/1348629560/analytics/overview/online_visitors/4393000574/pages?period=now'}}}, {'id': 4393002652, 'city': 'Delft', 'country_code': 'NL', 'country_name': 'Netherlands', 'last_page_view': '2020-04-01T15:15:49+02:00', 'organisation': 'Euronet Communications B.V.', 'page_views': 1, 'region': 'Zuid-Holland', '_links': {'details': {'href': 'https://api.siteimprove.com/v2/sites/1348629560/analytics/overview/online_visitors/4393002652/details?period=now'}, 'pages': {'href': 'https://api.siteimprove.com/v2/sites/1348629560/analytics/overview/online_visitors/4393002652/pages?period=now'}}}, {'id': 4393002095, 'city': 'Leidschendam', 'country_code': 'NL', 'country_name': 'Netherlands', 'last_page_view': '2020-04-01T15:15:39+02:00', 'organisation': 'Ziggo B.V.', 'page_views': 2, 'region': 'Zuid-Holland', '_links': {'details': {'href': 'https://api.siteimprove.com/v2/sites/1348629560/analytics/overview/online_visitors/4393002095/details?period=now'}, 'pages': {'href': 'https://api.siteimprove.com/v2/sites/1348629560/analytics/overview/online_visitors/4393002095/pages?period=now'}}}, {'id': 4393002352, 'city': 'Dorchester', 'country_code': 'US', 'country_name': 'United States', 'last_page_view': '2020-04-01T15:15:36+02:00', 'organisation': 'Mci Communications Services Inc. Dba Verizon Business', 'page_views': 1, 'region': 'Massachusetts', '_links': {'details': {'href': 'https://api.siteimprove.com/v2/sites/1348629560/analytics/overview/online_visitors/4393002352/details?period=now'}, 'pages': {'href': 'https://api.siteimprove.com/v2/sites/1348629560/analytics/overview/online_visitors/4393002352/pages?period=now'}}}, {'id': 4393001765, 'city': 'Voorburg', 'country_code': 'NL', 'country_name': 'Netherlands', 'last_page_view': '2020-04-01T15:15:34+02:00', 'organisation': 'Ziggo B.V.', 'page_views': 9, 'region': 'Zuid-Holland', '_links': {'details': {'href': 'https://api.siteimprove.com/v2/sites/1348629560/analytics/overview/online_visitors/4393001765/details?period=now'}, 'pages': {'href': 'https://api.siteimprove.com/v2/sites/1348629560/analytics/overview/online_visitors/4393001765/pages?period=now'}}}, {'id': 4393000920, 'city': 'Odivelas', 'country_code': 'PT', 'country_name': 'Portugal', 'last_page_view': '2020-04-01T15:15:33+02:00', 'organisation': 'Vodafone Portugal - Communicacoes Pessoais S.A.', 'page_views': 9, 'region': 'Lisboa', '_links': {'details': {'href': 'https://api.siteimprove.com/v2/sites/1348629560/analytics/overview/online_visitors/4393000920/details?period=now'}, 'pages': {'href': 'https://api.siteimprove.com/v2/sites/1348629560/analytics/overview/online_visitors/4393000920/pages?period=now'}}}, {'id': 4393002510, 'city': 'The Hague', 'country_code': 'NL', 'country_name': 'Netherlands', 'last_page_view': '2020-04-01T15:15:30+02:00', 'organisation': 'Customers', 'page_views': 1, 'region': 'Zuid-Holland', '_links': {'details': {'href': 'https://api.siteimprove.com/v2/sites/1348629560/analytics/overview/online_visitors/4393002510/details?period=now'}, 'pages': {'href': 'https://api.siteimprove.com/v2/sites/1348629560/analytics/overview/online_visitors/4393002510/pages?period=now'}}}], 'total_items': 63, 'total_pages': 7, 'links': {'next': {'href': 'https://api.siteimprove.com/v2/sites/1348629560/analytics/overview/online_visitors?period=20200101&page=2'}, 'self': {'href': 'https://api.siteimprove.com/v2/sites/1348629560/analytics/overview/online_visitors?period=20200101'}}}\n",
      "False\n"
     ]
    }
   ],
   "source": [
    "print(website1.json())\n",
    "print()\n",
    "print(website2.json())\n",
    "\n",
    "print(website1 == website2)"
   ]
  },
  {
   "cell_type": "code",
   "execution_count": null,
   "metadata": {},
   "outputs": [],
   "source": []
  },
  {
   "cell_type": "code",
   "execution_count": null,
   "metadata": {},
   "outputs": [],
   "source": []
  },
  {
   "cell_type": "code",
   "execution_count": 64,
   "metadata": {},
   "outputs": [],
   "source": []
  },
  {
   "cell_type": "code",
   "execution_count": null,
   "metadata": {},
   "outputs": [],
   "source": []
  },
  {
   "cell_type": "code",
   "execution_count": null,
   "metadata": {},
   "outputs": [],
   "source": []
  },
  {
   "cell_type": "code",
   "execution_count": null,
   "metadata": {},
   "outputs": [],
   "source": []
  }
 ],
 "metadata": {
  "kernelspec": {
   "display_name": "Python 3",
   "language": "python",
   "name": "python3"
  },
  "language_info": {
   "codemirror_mode": {
    "name": "ipython",
    "version": 3
   },
   "file_extension": ".py",
   "mimetype": "text/x-python",
   "name": "python",
   "nbconvert_exporter": "python",
   "pygments_lexer": "ipython3",
   "version": "3.7.4"
  }
 },
 "nbformat": 4,
 "nbformat_minor": 2
}
