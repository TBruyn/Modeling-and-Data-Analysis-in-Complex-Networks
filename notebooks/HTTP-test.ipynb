{
 "cells": [
  {
   "cell_type": "markdown",
   "metadata": {},
   "source": [
    "# HTTP test\n",
    "\n",
    "A basic test for the HTTP data collection\n",
    "\n",
    "https://siteimprove.com/\n",
    "\n",
    "https://api.siteimprove.com/v2/\n",
    "\n",
    "https://api.siteimprove.com/v2/documentation#/"
   ]
  },
  {
   "cell_type": "code",
   "execution_count": 1,
   "metadata": {},
   "outputs": [],
   "source": [
    "import requests\n",
    "from requests.auth import HTTPBasicAuth\n",
    "\n",
    "import json\n",
    "import pprint\n",
    "import tqdm\n",
    "import time"
   ]
  },
  {
   "cell_type": "code",
   "execution_count": 2,
   "metadata": {},
   "outputs": [],
   "source": [
    "url = 'https://api.siteimprove.com/v2'\n",
    "site_id = '1348629560'\n",
    "command = \"/sites/\" + site_id + \"/analytics/overview/online_visitors\"\n",
    "credentials = json.loads(open('secret.json', 'r').read())"
   ]
  },
  {
   "cell_type": "code",
   "execution_count": 3,
   "metadata": {},
   "outputs": [
    {
     "data": {
      "text/plain": [
       "{'items': [{'id': 4393110936,\n",
       "   'city': 'Delft',\n",
       "   'country_code': 'NL',\n",
       "   'country_name': 'Netherlands',\n",
       "   'last_page_view': '2020-04-01T16:48:56+02:00',\n",
       "   'organisation': 'Ripe Network Coordination Centre',\n",
       "   'page_views': 9,\n",
       "   'region': 'Zuid-Holland',\n",
       "   '_links': {'details': {'href': 'https://api.siteimprove.com/v2/sites/1348629560/analytics/overview/online_visitors/4393110936/details?period=now'},\n",
       "    'pages': {'href': 'https://api.siteimprove.com/v2/sites/1348629560/analytics/overview/online_visitors/4393110936/pages?period=now'}}},\n",
       "  {'id': 4393113863,\n",
       "   'city': 'Charenton-Le-Pont',\n",
       "   'country_code': 'FR',\n",
       "   'country_name': 'France',\n",
       "   'last_page_view': '2020-04-01T16:48:48+02:00',\n",
       "   'organisation': 'Proxad Free Sas',\n",
       "   'page_views': 1,\n",
       "   'region': 'Ile-De-France',\n",
       "   '_links': {'details': {'href': 'https://api.siteimprove.com/v2/sites/1348629560/analytics/overview/online_visitors/4393113863/details?period=now'},\n",
       "    'pages': {'href': 'https://api.siteimprove.com/v2/sites/1348629560/analytics/overview/online_visitors/4393113863/pages?period=now'}}},\n",
       "  {'id': 4393113817,\n",
       "   'city': 'Delft',\n",
       "   'country_code': 'NL',\n",
       "   'country_name': 'Netherlands',\n",
       "   'last_page_view': '2020-04-01T16:48:48+02:00',\n",
       "   'organisation': 'Kpn B.V.',\n",
       "   'page_views': 2,\n",
       "   'region': 'Zuid-Holland',\n",
       "   '_links': {'details': {'href': 'https://api.siteimprove.com/v2/sites/1348629560/analytics/overview/online_visitors/4393113817/details?period=now'},\n",
       "    'pages': {'href': 'https://api.siteimprove.com/v2/sites/1348629560/analytics/overview/online_visitors/4393113817/pages?period=now'}}},\n",
       "  {'id': 4393111731,\n",
       "   'city': 'Nootdorp',\n",
       "   'country_code': 'NL',\n",
       "   'country_name': 'Netherlands',\n",
       "   'last_page_view': '2020-04-01T16:48:36+02:00',\n",
       "   'organisation': 'Delft University Of Technology Network',\n",
       "   'page_views': 2,\n",
       "   'region': 'Zuid-Holland',\n",
       "   '_links': {'details': {'href': 'https://api.siteimprove.com/v2/sites/1348629560/analytics/overview/online_visitors/4393111731/details?period=now'},\n",
       "    'pages': {'href': 'https://api.siteimprove.com/v2/sites/1348629560/analytics/overview/online_visitors/4393111731/pages?period=now'}}},\n",
       "  {'id': 4393113678,\n",
       "   'city': 'Medellín',\n",
       "   'country_code': 'CO',\n",
       "   'country_name': 'Colombia',\n",
       "   'last_page_view': '2020-04-01T16:48:30+02:00',\n",
       "   'organisation': 'Epm Telecomunicaciones S.A. E.S.P.',\n",
       "   'page_views': 1,\n",
       "   'region': 'Antioquia',\n",
       "   '_links': {'details': {'href': 'https://api.siteimprove.com/v2/sites/1348629560/analytics/overview/online_visitors/4393113678/details?period=now'},\n",
       "    'pages': {'href': 'https://api.siteimprove.com/v2/sites/1348629560/analytics/overview/online_visitors/4393113678/pages?period=now'}}},\n",
       "  {'id': 4393113421,\n",
       "   'city': 'Katwijk',\n",
       "   'country_code': 'NL',\n",
       "   'country_name': 'Netherlands',\n",
       "   'last_page_view': '2020-04-01T16:48:18+02:00',\n",
       "   'organisation': 'TELE2 Nederland B.V.',\n",
       "   'page_views': 2,\n",
       "   'region': 'Zuid-Holland',\n",
       "   '_links': {'details': {'href': 'https://api.siteimprove.com/v2/sites/1348629560/analytics/overview/online_visitors/4393113421/details?period=now'},\n",
       "    'pages': {'href': 'https://api.siteimprove.com/v2/sites/1348629560/analytics/overview/online_visitors/4393113421/pages?period=now'}}},\n",
       "  {'id': 4393113195,\n",
       "   'city': 'Delft',\n",
       "   'country_code': 'NL',\n",
       "   'country_name': 'Netherlands',\n",
       "   'last_page_view': '2020-04-01T16:48:15+02:00',\n",
       "   'organisation': 'Stichting Duwo',\n",
       "   'page_views': 4,\n",
       "   'region': 'Zuid-Holland',\n",
       "   '_links': {'details': {'href': 'https://api.siteimprove.com/v2/sites/1348629560/analytics/overview/online_visitors/4393113195/details?period=now'},\n",
       "    'pages': {'href': 'https://api.siteimprove.com/v2/sites/1348629560/analytics/overview/online_visitors/4393113195/pages?period=now'}}},\n",
       "  {'id': 4393112957,\n",
       "   'city': 'Delft',\n",
       "   'country_code': 'NL',\n",
       "   'country_name': 'Netherlands',\n",
       "   'last_page_view': '2020-04-01T16:48:09+02:00',\n",
       "   'organisation': 'Stichting Duwo',\n",
       "   'page_views': 3,\n",
       "   'region': 'Zuid-Holland',\n",
       "   '_links': {'details': {'href': 'https://api.siteimprove.com/v2/sites/1348629560/analytics/overview/online_visitors/4393112957/details?period=now'},\n",
       "    'pages': {'href': 'https://api.siteimprove.com/v2/sites/1348629560/analytics/overview/online_visitors/4393112957/pages?period=now'}}},\n",
       "  {'id': 4393110241,\n",
       "   'city': 'Amsterdam',\n",
       "   'country_code': 'NL',\n",
       "   'country_name': 'Netherlands',\n",
       "   'last_page_view': '2020-04-01T16:47:55+02:00',\n",
       "   'organisation': 'Customers',\n",
       "   'page_views': 9,\n",
       "   'region': 'Noord-Holland',\n",
       "   '_links': {'details': {'href': 'https://api.siteimprove.com/v2/sites/1348629560/analytics/overview/online_visitors/4393110241/details?period=now'},\n",
       "    'pages': {'href': 'https://api.siteimprove.com/v2/sites/1348629560/analytics/overview/online_visitors/4393110241/pages?period=now'}}},\n",
       "  {'id': 4393112936,\n",
       "   'city': 'Delft',\n",
       "   'country_code': 'NL',\n",
       "   'country_name': 'Netherlands',\n",
       "   'last_page_view': '2020-04-01T16:47:53+02:00',\n",
       "   'organisation': 'Technische Universiteit Delft',\n",
       "   'page_views': 1,\n",
       "   'region': 'Zuid-Holland',\n",
       "   '_links': {'details': {'href': 'https://api.siteimprove.com/v2/sites/1348629560/analytics/overview/online_visitors/4393112936/details?period=now'},\n",
       "    'pages': {'href': 'https://api.siteimprove.com/v2/sites/1348629560/analytics/overview/online_visitors/4393112936/pages?period=now'}}}],\n",
       " 'total_items': 47,\n",
       " 'total_pages': 5,\n",
       " 'links': {'next': {'href': 'https://api.siteimprove.com/v2/sites/1348629560/analytics/overview/online_visitors?page=2'},\n",
       "  'self': {'href': 'https://api.siteimprove.com/v2/sites/1348629560/analytics/overview/online_visitors'}}}"
      ]
     },
     "execution_count": 3,
     "metadata": {},
     "output_type": "execute_result"
    }
   ],
   "source": [
    "visits = []\n",
    "exceptions = []\n",
    "website1 = requests.get(url + command, auth=HTTPBasicAuth(credentials['userName'], credentials['userPass']))\n",
    "pagelist = website1.json()\n",
    "pagelist"
   ]
  },
  {
   "cell_type": "code",
   "execution_count": 4,
   "metadata": {},
   "outputs": [
    {
     "name": "stdout",
     "output_type": "stream",
     "text": [
      "https://api.siteimprove.com/v2/sites/1348629560/analytics/overview/online_visitors/4393110936/pages?period=now\n",
      "https://api.siteimprove.com/v2/sites/1348629560/analytics/overview/online_visitors/4393113863/pages?period=now\n",
      "https://api.siteimprove.com/v2/sites/1348629560/analytics/overview/online_visitors/4393113817/pages?period=now\n",
      "https://api.siteimprove.com/v2/sites/1348629560/analytics/overview/online_visitors/4393111731/pages?period=now\n",
      "https://api.siteimprove.com/v2/sites/1348629560/analytics/overview/online_visitors/4393113678/pages?period=now\n",
      "https://api.siteimprove.com/v2/sites/1348629560/analytics/overview/online_visitors/4393113421/pages?period=now\n",
      "https://api.siteimprove.com/v2/sites/1348629560/analytics/overview/online_visitors/4393113195/pages?period=now\n",
      "https://api.siteimprove.com/v2/sites/1348629560/analytics/overview/online_visitors/4393112957/pages?period=now\n",
      "https://api.siteimprove.com/v2/sites/1348629560/analytics/overview/online_visitors/4393110241/pages?period=now\n",
      "https://api.siteimprove.com/v2/sites/1348629560/analytics/overview/online_visitors/4393112936/pages?period=now\n"
     ]
    }
   ],
   "source": [
    "nextlinks = []\n",
    "if 'items' in pagelist:\n",
    "    for item in pagelist['items']:\n",
    "        if '_links' in item and 'pages' in item['_links'] and 'href' in item['_links']['pages']:\n",
    "            nextlinks.append(item['_links']['pages']['href'])\n",
    "            print(item['_links']['pages']['href'])"
   ]
  },
  {
   "cell_type": "code",
   "execution_count": 6,
   "metadata": {},
   "outputs": [
    {
     "data": {
      "text/plain": [
       "{'items': [{'id': 363484028,\n",
       "   'title': 'Library',\n",
       "   'url': 'https://www.tudelft.nl/library/',\n",
       "   'has_integration': False,\n",
       "   'last_page_view': '2020-04-01T16:46:19+02:00'},\n",
       "  {'id': 364509386,\n",
       "   'title': 'Support',\n",
       "   'url': 'https://www.tudelft.nl/library/support/',\n",
       "   'has_integration': False,\n",
       "   'last_page_view': '2020-04-01T16:48:03+02:00'},\n",
       "  {'id': 473733836,\n",
       "   'title': 'Contact en bereikbaarheid',\n",
       "   'url': 'https://www.tudelft.nl/library/over-the-library/contact-en-bereikbaarheid/',\n",
       "   'has_integration': False,\n",
       "   'last_page_view': '2020-04-01T16:48:09+02:00'},\n",
       "  {'id': 473721727,\n",
       "   'title': 'Over the Library',\n",
       "   'url': 'https://www.tudelft.nl/library/over-the-library/',\n",
       "   'has_integration': False,\n",
       "   'last_page_view': '2020-04-01T16:48:23+02:00'},\n",
       "  {'id': 363484028,\n",
       "   'title': 'Library',\n",
       "   'url': 'https://www.tudelft.nl/library/',\n",
       "   'has_integration': False,\n",
       "   'last_page_view': '2020-04-01T16:48:29+02:00'},\n",
       "  {'id': 473733836,\n",
       "   'title': 'Contact en bereikbaarheid',\n",
       "   'url': 'https://www.tudelft.nl/library/over-the-library/contact-en-bereikbaarheid/',\n",
       "   'has_integration': False,\n",
       "   'last_page_view': '2020-04-01T16:48:42+02:00'},\n",
       "  {'id': 388859830,\n",
       "   'title': 'Library voor studenten',\n",
       "   'url': 'https://www.tudelft.nl/library/actuele-themas/library-voor-studenten/',\n",
       "   'has_integration': False,\n",
       "   'last_page_view': '2020-04-01T16:48:47+02:00'},\n",
       "  {'id': 388878382,\n",
       "   'title': 'Support',\n",
       "   'url': 'https://www.tudelft.nl/library/actuele-themas/library-voor-studenten/s/support/',\n",
       "   'has_integration': False,\n",
       "   'last_page_view': '2020-04-01T16:48:50+02:00'},\n",
       "  {'id': 389054478,\n",
       "   'title': 'Ask Your Library - klantenservice',\n",
       "   'url': 'https://www.tudelft.nl/library/actuele-themas/library-voor-studenten/s/support/ask-your-library-klantenservice/',\n",
       "   'has_integration': False,\n",
       "   'last_page_view': '2020-04-01T16:48:56+02:00'}],\n",
       " 'total_items': 9,\n",
       " 'total_pages': 1,\n",
       " 'links': {'self': {'href': 'https://api.siteimprove.com/v2/sites/1348629560/analytics/overview/online_visitors/4393110936/pages?period=now'}}}"
      ]
     },
     "execution_count": 6,
     "metadata": {},
     "output_type": "execute_result"
    }
   ],
   "source": [
    "visitorpages = []\n",
    "for link in nextlinks:\n",
    "    visitorpages_raw = requests.get(link, auth=HTTPBasicAuth(credentials['userName'], credentials['userPass']))\n",
    "    visitorpages.append(visitorpages_raw.json())\n",
    "\n",
    "visitorpages[0]"
   ]
  },
  {
   "cell_type": "code",
   "execution_count": 15,
   "metadata": {},
   "outputs": [
    {
     "name": "stdout",
     "output_type": "stream",
     "text": [
      "{'id': 4393110936, 'city': 'Delft', 'country_code': 'NL', 'country_name': 'Netherlands', 'last_page_view': '2020-04-01T16:48:56+02:00', 'organisation': 'Ripe Network Coordination Centre', 'page_views': 9, 'region': 'Zuid-Holland', '_links': {'details': {'href': 'https://api.siteimprove.com/v2/sites/1348629560/analytics/overview/online_visitors/4393110936/details?period=now'}, 'pages': {'href': 'https://api.siteimprove.com/v2/sites/1348629560/analytics/overview/online_visitors/4393110936/pages?period=now'}}}\n",
      "{'id': 4393113863, 'city': 'Charenton-Le-Pont', 'country_code': 'FR', 'country_name': 'France', 'last_page_view': '2020-04-01T16:48:48+02:00', 'organisation': 'Proxad Free Sas', 'page_views': 1, 'region': 'Ile-De-France', '_links': {'details': {'href': 'https://api.siteimprove.com/v2/sites/1348629560/analytics/overview/online_visitors/4393113863/details?period=now'}, 'pages': {'href': 'https://api.siteimprove.com/v2/sites/1348629560/analytics/overview/online_visitors/4393113863/pages?period=now'}}}\n",
      "{'id': 4393113817, 'city': 'Delft', 'country_code': 'NL', 'country_name': 'Netherlands', 'last_page_view': '2020-04-01T16:48:48+02:00', 'organisation': 'Kpn B.V.', 'page_views': 2, 'region': 'Zuid-Holland', '_links': {'details': {'href': 'https://api.siteimprove.com/v2/sites/1348629560/analytics/overview/online_visitors/4393113817/details?period=now'}, 'pages': {'href': 'https://api.siteimprove.com/v2/sites/1348629560/analytics/overview/online_visitors/4393113817/pages?period=now'}}}\n",
      "{'id': 4393111731, 'city': 'Nootdorp', 'country_code': 'NL', 'country_name': 'Netherlands', 'last_page_view': '2020-04-01T16:48:36+02:00', 'organisation': 'Delft University Of Technology Network', 'page_views': 2, 'region': 'Zuid-Holland', '_links': {'details': {'href': 'https://api.siteimprove.com/v2/sites/1348629560/analytics/overview/online_visitors/4393111731/details?period=now'}, 'pages': {'href': 'https://api.siteimprove.com/v2/sites/1348629560/analytics/overview/online_visitors/4393111731/pages?period=now'}}}\n",
      "{'id': 4393113678, 'city': 'Medellín', 'country_code': 'CO', 'country_name': 'Colombia', 'last_page_view': '2020-04-01T16:48:30+02:00', 'organisation': 'Epm Telecomunicaciones S.A. E.S.P.', 'page_views': 1, 'region': 'Antioquia', '_links': {'details': {'href': 'https://api.siteimprove.com/v2/sites/1348629560/analytics/overview/online_visitors/4393113678/details?period=now'}, 'pages': {'href': 'https://api.siteimprove.com/v2/sites/1348629560/analytics/overview/online_visitors/4393113678/pages?period=now'}}}\n",
      "{'id': 4393113421, 'city': 'Katwijk', 'country_code': 'NL', 'country_name': 'Netherlands', 'last_page_view': '2020-04-01T16:48:18+02:00', 'organisation': 'TELE2 Nederland B.V.', 'page_views': 2, 'region': 'Zuid-Holland', '_links': {'details': {'href': 'https://api.siteimprove.com/v2/sites/1348629560/analytics/overview/online_visitors/4393113421/details?period=now'}, 'pages': {'href': 'https://api.siteimprove.com/v2/sites/1348629560/analytics/overview/online_visitors/4393113421/pages?period=now'}}}\n",
      "{'id': 4393113195, 'city': 'Delft', 'country_code': 'NL', 'country_name': 'Netherlands', 'last_page_view': '2020-04-01T16:48:15+02:00', 'organisation': 'Stichting Duwo', 'page_views': 4, 'region': 'Zuid-Holland', '_links': {'details': {'href': 'https://api.siteimprove.com/v2/sites/1348629560/analytics/overview/online_visitors/4393113195/details?period=now'}, 'pages': {'href': 'https://api.siteimprove.com/v2/sites/1348629560/analytics/overview/online_visitors/4393113195/pages?period=now'}}}\n",
      "{'id': 4393112957, 'city': 'Delft', 'country_code': 'NL', 'country_name': 'Netherlands', 'last_page_view': '2020-04-01T16:48:09+02:00', 'organisation': 'Stichting Duwo', 'page_views': 3, 'region': 'Zuid-Holland', '_links': {'details': {'href': 'https://api.siteimprove.com/v2/sites/1348629560/analytics/overview/online_visitors/4393112957/details?period=now'}, 'pages': {'href': 'https://api.siteimprove.com/v2/sites/1348629560/analytics/overview/online_visitors/4393112957/pages?period=now'}}}\n",
      "{'id': 4393110241, 'city': 'Amsterdam', 'country_code': 'NL', 'country_name': 'Netherlands', 'last_page_view': '2020-04-01T16:47:55+02:00', 'organisation': 'Customers', 'page_views': 9, 'region': 'Noord-Holland', '_links': {'details': {'href': 'https://api.siteimprove.com/v2/sites/1348629560/analytics/overview/online_visitors/4393110241/details?period=now'}, 'pages': {'href': 'https://api.siteimprove.com/v2/sites/1348629560/analytics/overview/online_visitors/4393110241/pages?period=now'}}}\n",
      "{'id': 4393112936, 'city': 'Delft', 'country_code': 'NL', 'country_name': 'Netherlands', 'last_page_view': '2020-04-01T16:47:53+02:00', 'organisation': 'Technische Universiteit Delft', 'page_views': 1, 'region': 'Zuid-Holland', '_links': {'details': {'href': 'https://api.siteimprove.com/v2/sites/1348629560/analytics/overview/online_visitors/4393112936/details?period=now'}, 'pages': {'href': 'https://api.siteimprove.com/v2/sites/1348629560/analytics/overview/online_visitors/4393112936/pages?period=now'}}}\n"
     ]
    }
   ],
   "source": [
    "for item in pagelist['items']:\n",
    "    print(item)"
   ]
  },
  {
   "cell_type": "code",
   "execution_count": 12,
   "metadata": {},
   "outputs": [
    {
     "data": {
      "text/plain": [
       "['items', 'total_items', 'total_pages', 'links']"
      ]
     },
     "execution_count": 12,
     "metadata": {},
     "output_type": "execute_result"
    }
   ],
   "source": []
  },
  {
   "cell_type": "code",
   "execution_count": null,
   "metadata": {},
   "outputs": [],
   "source": []
  },
  {
   "cell_type": "code",
   "execution_count": null,
   "metadata": {},
   "outputs": [],
   "source": []
  },
  {
   "cell_type": "code",
   "execution_count": null,
   "metadata": {},
   "outputs": [],
   "source": []
  }
 ],
 "metadata": {
  "kernelspec": {
   "display_name": "Python 3",
   "language": "python",
   "name": "python3"
  },
  "language_info": {
   "codemirror_mode": {
    "name": "ipython",
    "version": 3
   },
   "file_extension": ".py",
   "mimetype": "text/x-python",
   "name": "python",
   "nbconvert_exporter": "python",
   "pygments_lexer": "ipython3",
   "version": "3.7.4"
  }
 },
 "nbformat": 4,
 "nbformat_minor": 2
}
