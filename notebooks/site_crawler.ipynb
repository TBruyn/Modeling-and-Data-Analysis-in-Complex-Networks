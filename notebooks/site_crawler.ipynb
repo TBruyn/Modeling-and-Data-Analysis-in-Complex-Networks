{
 "cells": [
  {
   "cell_type": "markdown",
   "metadata": {},
   "source": [
    "# HTTP test\n",
    "\n",
    "A basic test for the HTTP data collection\n",
    "\n",
    "https://siteimprove.com/\n",
    "\n",
    "https://api.siteimprove.com/v2/\n",
    "\n",
    "https://api.siteimprove.com/v2/documentation#/"
   ]
  },
  {
   "cell_type": "code",
   "execution_count": 1,
   "metadata": {},
   "outputs": [],
   "source": [
    "import requests\n",
    "from requests.auth import HTTPBasicAuth\n",
    "\n",
    "\n",
    "import json\n",
    "import re\n",
    "import pprint"
   ]
  },
  {
   "cell_type": "code",
   "execution_count": 2,
   "metadata": {},
   "outputs": [],
   "source": [
    "url = 'https://api.siteimprove.com/v2'\n",
    "site_id = '1348629560'\n",
    "command = \"/sites/\" + site_id + \"/analytics/content/all_pages\"\n",
    "credentials = json.loads(open('secret.json', 'r').read())"
   ]
  },
  {
   "cell_type": "code",
   "execution_count": 25,
   "metadata": {},
   "outputs": [
    {
     "data": {
      "text/plain": [
       "{'items': [{'id': 336118449,\n",
       "   'title': 'Home',\n",
       "   'url': 'https://www.tudelft.nl',\n",
       "   'average_page_views_per_visit': 1.33,\n",
       "   'bounce_rate': 45.25,\n",
       "   'has_integration': False,\n",
       "   'last_visited': '2020-03-31T00:26:11+02:00',\n",
       "   'page_views': 23903,\n",
       "   'rank': 1,\n",
       "   'visits': 17979},\n",
       "  {'id': 665073598,\n",
       "   'title': 'Informatie rondom het coronavirus',\n",
       "   'url': 'https://www.tudelft.nl/2020/tu-delft/coronavirus/',\n",
       "   'average_page_views_per_visit': 1.4,\n",
       "   'bounce_rate': 60.58,\n",
       "   'has_integration': False,\n",
       "   'last_visited': '2020-03-31T00:31:40+02:00',\n",
       "   'page_views': 17823,\n",
       "   'rank': 2,\n",
       "   'visits': 12754},\n",
       "  {'id': 665073605,\n",
       "   'title': 'Information regarding the coronavirus',\n",
       "   'url': 'https://www.tudelft.nl/en/2020/tu-delft/coronavirus/',\n",
       "   'average_page_views_per_visit': 1.42,\n",
       "   'bounce_rate': 63.49,\n",
       "   'has_integration': False,\n",
       "   'last_visited': '2020-03-31T00:40:21+02:00',\n",
       "   'page_views': 15103,\n",
       "   'rank': 3,\n",
       "   'visits': 10614},\n",
       "  {'id': 337155966,\n",
       "   'title': 'Delft University of Technology',\n",
       "   'url': 'https://www.tudelft.nl/en/',\n",
       "   'average_page_views_per_visit': 1.39,\n",
       "   'bounce_rate': 21.55,\n",
       "   'has_integration': False,\n",
       "   'last_visited': '2020-03-31T00:46:43+02:00',\n",
       "   'page_views': 9084,\n",
       "   'rank': 4,\n",
       "   'visits': 6533},\n",
       "  {'id': 363442585,\n",
       "   'title': 'Masters',\n",
       "   'url': 'https://www.tudelft.nl/en/education/programmes/masters/',\n",
       "   'average_page_views_per_visit': 2.27,\n",
       "   'bounce_rate': 12.25,\n",
       "   'has_integration': False,\n",
       "   'last_visited': '2020-03-31T00:53:10+02:00',\n",
       "   'page_views': 6069,\n",
       "   'rank': 5,\n",
       "   'visits': 2673},\n",
       "  {'id': 402712745,\n",
       "   'title': 'MSc - International diploma',\n",
       "   'url': 'https://www.tudelft.nl/en/education/admission-and-application/msc-international-diploma/',\n",
       "   'average_page_views_per_visit': 1.69,\n",
       "   'bounce_rate': 7.74,\n",
       "   'has_integration': False,\n",
       "   'last_visited': '2020-03-31T00:26:27+02:00',\n",
       "   'page_views': 2937,\n",
       "   'rank': 6,\n",
       "   'visits': 1742},\n",
       "  {'id': 363442495,\n",
       "   'title': 'Programmes',\n",
       "   'url': 'https://www.tudelft.nl/en/education/programmes/',\n",
       "   'average_page_views_per_visit': 1.36,\n",
       "   'bounce_rate': 7.88,\n",
       "   'has_integration': False,\n",
       "   'last_visited': '2020-03-31T00:09:59+02:00',\n",
       "   'page_views': 2912,\n",
       "   'rank': 7,\n",
       "   'visits': 2136},\n",
       "  {'id': 363443095,\n",
       "   'title': 'Scholarships',\n",
       "   'url': 'https://www.tudelft.nl/en/education/practical-matters/scholarships/',\n",
       "   'average_page_views_per_visit': 1.68,\n",
       "   'bounce_rate': 51.27,\n",
       "   'has_integration': False,\n",
       "   'last_visited': '2020-03-30T23:53:28+02:00',\n",
       "   'page_views': 2881,\n",
       "   'rank': 8,\n",
       "   'visits': 1720},\n",
       "  {'id': 363442748,\n",
       "   'title': 'Admission and Application',\n",
       "   'url': 'https://www.tudelft.nl/en/education/admission-and-application/',\n",
       "   'average_page_views_per_visit': 1.42,\n",
       "   'bounce_rate': 10.89,\n",
       "   'has_integration': False,\n",
       "   'last_visited': '2020-03-31T00:04:17+02:00',\n",
       "   'page_views': 2700,\n",
       "   'rank': 9,\n",
       "   'visits': 1904},\n",
       "  {'id': 363467772,\n",
       "   'title': 'Search Jobs',\n",
       "   'url': 'https://www.tudelft.nl/en/about-tu-delft/working-at-tu-delft/search-jobs/',\n",
       "   'average_page_views_per_visit': 1.25,\n",
       "   'bounce_rate': 76.26,\n",
       "   'has_integration': False,\n",
       "   'last_visited': '2020-03-31T00:45:12+02:00',\n",
       "   'page_views': 2378,\n",
       "   'rank': 10,\n",
       "   'visits': 1901}],\n",
       " 'total_items': 1000,\n",
       " 'total_pages': 100,\n",
       " 'links': {'next': {'href': 'https://api.siteimprove.com/v2/sites/1348629560/analytics/content/most_popular_pages?page=2'},\n",
       "  'self': {'href': 'https://api.siteimprove.com/v2/sites/1348629560/analytics/content/most_popular_pages'}}}"
      ]
     },
     "execution_count": 25,
     "metadata": {},
     "output_type": "execute_result"
    }
   ],
   "source": [
    "all_pages = json.loads(open('most_popular_pages.json', 'r').read())\n",
    "all_pages[0]"
   ]
  },
  {
   "cell_type": "code",
   "execution_count": 26,
   "metadata": {},
   "outputs": [],
   "source": [
    "all_pages_formatted = []\n",
    "[[all_pages_formatted.append(webpage) for webpage in page['items']] for page in all_pages]\n",
    "all_pages_formatted[0:5]\n",
    "\n",
    "with open('most_popular_pages_formatted.json', 'w', encoding='utf-8') as file:\n",
    "    json.dump(all_pages_formatted, file, indent=4)"
   ]
  },
  {
   "cell_type": "code",
   "execution_count": null,
   "metadata": {},
   "outputs": [],
   "source": []
  },
  {
   "cell_type": "code",
   "execution_count": 7,
   "metadata": {},
   "outputs": [
    {
     "data": {
      "text/plain": [
       "['a']"
      ]
     },
     "execution_count": 7,
     "metadata": {},
     "output_type": "execute_result"
    }
   ],
   "source": [
    "bla = { 'a' : 1}\n",
    "[x for x in bla]"
   ]
  },
  {
   "cell_type": "code",
   "execution_count": null,
   "metadata": {},
   "outputs": [],
   "source": []
  },
  {
   "cell_type": "code",
   "execution_count": null,
   "metadata": {},
   "outputs": [],
   "source": []
  },
  {
   "cell_type": "code",
   "execution_count": null,
   "metadata": {},
   "outputs": [],
   "source": []
  },
  {
   "cell_type": "code",
   "execution_count": null,
   "metadata": {},
   "outputs": [],
   "source": []
  }
 ],
 "metadata": {
  "kernelspec": {
   "display_name": "Python 3",
   "language": "python",
   "name": "python3"
  },
  "language_info": {
   "codemirror_mode": {
    "name": "ipython",
    "version": 3
   },
   "file_extension": ".py",
   "mimetype": "text/x-python",
   "name": "python",
   "nbconvert_exporter": "python",
   "pygments_lexer": "ipython3",
   "version": "3.7.4"
  }
 },
 "nbformat": 4,
 "nbformat_minor": 2
}
